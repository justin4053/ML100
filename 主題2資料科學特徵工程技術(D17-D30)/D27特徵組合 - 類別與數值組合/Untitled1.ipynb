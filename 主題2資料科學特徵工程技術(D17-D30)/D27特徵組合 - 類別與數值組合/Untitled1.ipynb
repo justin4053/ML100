{
 "cells": [
  {
   "cell_type": "code",
   "execution_count": 57,
   "metadata": {},
   "outputs": [
    {
     "name": "stdout",
     "output_type": "stream",
     "text": [
      "1.2773859520256987\n",
      "1.8729558812506137\n"
     ]
    }
   ],
   "source": [
    "import matplotlib\n",
    "import matplotlib.pyplot as plt \n",
    "import numpy as np \n",
    "import random as random\n",
    "import random as random\n",
    "import csv\n",
    "import pandas as pd\n",
    "#create some data\n",
    "data_path = r'C:\\\\Users\\justi\\Desktop\\123\\\\'\n",
    "df = pd.read_csv(data_path + 'pidgey.csv')\n",
    "x_data=list(df['cp'])\n",
    "y_data=list(df['cp_new'])\n",
    "#initial weight and bias\n",
    "b=1\n",
    "w=4\n",
    "lr=0.00000001\n",
    "iteration=1000000\n",
    "for i in range(iteration):\n",
    "    b_grad=0.0   \n",
    "    w_grad=0.0 \n",
    "    for n in range(len(x_data)):\n",
    "        b_grad = b_grad -2.0*(y_data[n] - b - w*x_data[n])*1.0\n",
    "        w_grad = w_grad -2.0*(y_data[n] - b - w*x_data[n])*x_data[n]\n",
    "    b = b - lr*b_grad \n",
    "    w = w - lr*w_grad\n",
    "print(b)\n",
    "print(w)"
   ]
  },
  {
   "cell_type": "code",
   "execution_count": 41,
   "metadata": {},
   "outputs": [
    {
     "name": "stdout",
     "output_type": "stream",
     "text": [
      "                            OLS Regression Results                            \n",
      "==============================================================================\n",
      "Dep. Variable:                      y   R-squared:                       0.999\n",
      "Model:                            OLS   Adj. R-squared:                  0.999\n",
      "Method:                 Least Squares   F-statistic:                 3.880e+04\n",
      "Date:                Fri, 04 Oct 2019   Prob (F-statistic):           1.68e-57\n",
      "Time:                        22:26:45   Log-Likelihood:                -127.82\n",
      "No. Observations:                  39   AIC:                             259.6\n",
      "Df Residuals:                      37   BIC:                             263.0\n",
      "Df Model:                           1                                         \n",
      "Covariance Type:            nonrobust                                         \n",
      "==============================================================================\n",
      "                 coef    std err          t      P>|t|      [0.025      0.975]\n",
      "------------------------------------------------------------------------------\n",
      "const          2.6281      2.126      1.236      0.224      -1.680       6.936\n",
      "x1             1.8677      0.009    196.973      0.000       1.849       1.887\n",
      "==============================================================================\n",
      "Omnibus:                       29.913   Durbin-Watson:                   0.881\n",
      "Prob(Omnibus):                  0.000   Jarque-Bera (JB):               74.411\n",
      "Skew:                          -1.855   Prob(JB):                     6.95e-17\n",
      "Kurtosis:                       8.659   Cond. No.                         452.\n",
      "==============================================================================\n",
      "\n",
      "Warnings:\n",
      "[1] Standard Errors assume that the covariance matrix of the errors is correctly specified.\n"
     ]
    }
   ],
   "source": [
    "import statsmodels.api as sm\n",
    "X = sm.add_constant(x_data) # adding a constant\n",
    "model = sm.OLS(y_data, X).fit()\n",
    "print_model = model.summary()\n",
    "print(print_model)"
   ]
  },
  {
   "cell_type": "code",
   "execution_count": null,
   "metadata": {},
   "outputs": [],
   "source": []
  }
 ],
 "metadata": {
  "kernelspec": {
   "display_name": "Python 3",
   "language": "python",
   "name": "python3"
  },
  "language_info": {
   "codemirror_mode": {
    "name": "ipython",
    "version": 3
   },
   "file_extension": ".py",
   "mimetype": "text/x-python",
   "name": "python",
   "nbconvert_exporter": "python",
   "pygments_lexer": "ipython3",
   "version": "3.6.8"
  }
 },
 "nbformat": 4,
 "nbformat_minor": 2
}

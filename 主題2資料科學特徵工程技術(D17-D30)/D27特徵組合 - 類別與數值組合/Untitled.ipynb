{
 "cells": [
  {
   "cell_type": "code",
   "execution_count": 11,
   "metadata": {},
   "outputs": [
    {
     "name": "stdout",
     "output_type": "stream",
     "text": [
      "nan\n",
      "nan\n"
     ]
    }
   ],
   "source": [
    "import matplotlib\n",
    "import matplotlib.pyplot as plt \n",
    "import numpy as np \n",
    "import random as random\n",
    "import random as random\n",
    "import csv\n",
    "import pandas as pd\n",
    "import numpy as np\n",
    "import datetime\n",
    "x_data=[338, 333, 328, 207, 226, 25, 179, 60, 208, 606]\n",
    "\n",
    "y_data=[640, 633, 619, 393, 428,27, 193, 66, 226, 1591]\n",
    "data_path = r'C:\\\\Users\\justi\\Desktop\\123\\\\'\n",
    "df = pd.read_csv(data_path + 'pidgey.csv')\n",
    "\n",
    "#x_data=list(df['cp'])\n",
    "#y_data=list(df['cp_new'])\n",
    "\n",
    "#initial weight and bias\n",
    "b=-120\n",
    "w=-4\n",
    "lr=1\n",
    "iteration=100000\n",
    "lr_b=0.0\n",
    "lr_w=0.0\n",
    "for i in range(iteration):\n",
    "    b_grad=0.0   \n",
    "    w_grad=0.0   \n",
    "    for n in range(len(x_data)):\n",
    "        b_grad = b_grad -2.0*(y_data[n] - b - w*x_data[n])*1.0\n",
    "        w_grad = w_grad -2.0*(y_data[n] - b - w*x_data[n])*x_data[n]\n",
    "    b = b - lr*b_grad\n",
    "    w = w - lr*w_grad\n",
    "print(b)\n",
    "print(w)\n"
   ]
  },
  {
   "cell_type": "code",
   "execution_count": 12,
   "metadata": {},
   "outputs": [
    {
     "data": {
      "text/plain": [
       "[338, 333, 328, 207, 226, 25, 179, 60, 208, 606]"
      ]
     },
     "execution_count": 12,
     "metadata": {},
     "output_type": "execute_result"
    }
   ],
   "source": [
    "x_data"
   ]
  },
  {
   "cell_type": "code",
   "execution_count": null,
   "metadata": {},
   "outputs": [],
   "source": []
  }
 ],
 "metadata": {
  "kernelspec": {
   "display_name": "Python 3",
   "language": "python",
   "name": "python3"
  },
  "language_info": {
   "codemirror_mode": {
    "name": "ipython",
    "version": 3
   },
   "file_extension": ".py",
   "mimetype": "text/x-python",
   "name": "python",
   "nbconvert_exporter": "python",
   "pygments_lexer": "ipython3",
   "version": "3.6.8"
  }
 },
 "nbformat": 4,
 "nbformat_minor": 2
}

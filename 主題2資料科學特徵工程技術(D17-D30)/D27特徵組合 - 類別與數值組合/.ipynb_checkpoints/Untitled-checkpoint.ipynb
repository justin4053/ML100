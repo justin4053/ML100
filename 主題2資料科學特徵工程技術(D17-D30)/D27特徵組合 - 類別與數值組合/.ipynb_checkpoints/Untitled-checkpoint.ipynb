{
 "cells": [
  {
   "cell_type": "code",
   "execution_count": 3,
   "metadata": {},
   "outputs": [
    {
     "data": {
      "image/png": "[encoded data removed]",
      "text/plain": [
       "<Figure size 432x288 with 1 Axes>"
      ]
     },
     "metadata": {
      "needs_background": "light"
     },
     "output_type": "display_data"
    }
   ],
   "source": [
    "import matplotlib\n",
    "import matplotlib.pyplot as plt \n",
    "import numpy as np \n",
    "import random as random\n",
    "import random as random\n",
    "import csv\n",
    "import pandas as pd\n",
    "import numpy as np\n",
    "import datetime\n",
    "\n",
    "#create some data\n",
    "data_path = r'C:\\\\Users\\justi\\Desktop\\123\\\\'\n",
    "df = pd.read_csv(data_path + 'pidgey.csv')\n",
    "\n",
    "\n",
    "x_data=list(df['cp'])\n",
    "y_data=list(df['cp_new'])\n",
    "\n",
    "\n",
    "x = np.arange(-200,-100,1) #bias\n",
    "y = np.arange(-5,5,0.1) #weight\n",
    "Z =  np.zeros((len(x), len(y)))\n",
    "X, Y = np.meshgrid(x, y)\n",
    "for i in range(len(x)):\n",
    "    for j in range(len(y)):\n",
    "        b = x[i]\n",
    "        w = y[j]\n",
    "        Z[j][i] = 0\n",
    "        for n in range(len(x_data)):\n",
    "            Z[j][i] = Z[j][i] +  (y_data[n] - b - w*x_data[n])**2\n",
    "            Z[j][i] = Z[j][i]/len(x_data)\n",
    "\n",
    "#initial weight and bias\n",
    "b=-120\n",
    "w=-4\n",
    "lr=1\n",
    "iteration=100000\n",
    "\n",
    "b_history=[b]\n",
    "w_history=[w]\n",
    "\n",
    "lr_b=0.0\n",
    "lr_w=0.0\n",
    "\n",
    "\n",
    "for i in range(iteration):\n",
    "#gradient fxn\n",
    "    b_grad=0.0   # 新的b點位移預測\n",
    "    w_grad=0.0   # 新的w點位移預測\n",
    "    \n",
    "    for n in range(len(x_data)):\n",
    "\n",
    "        # L(w,b)對b偏微分\n",
    "        b_grad = b_grad -2.0*(y_data[n] - b - w*x_data[n])*1.0\n",
    "        # L(w,b)對w偏微分\n",
    "        w_grad = w_grad -2.0*(y_data[n] - b - w*x_data[n])*x_data[n]\n",
    "        \n",
    "    lr_b = lr_b + b_grad **2\n",
    "    lr_w = lr_w + w_grad **2\n",
    "\n",
    "    b = b - lr/np.sqrt(lr_b)*b_grad # Adagrad\n",
    "    w = w - lr/np.sqrt(lr_w)*w_grad\n",
    "   \n",
    "\n",
    "    b_history.append(b)\n",
    "    w_history.append(w)  #put all the b,w into the array, find the minimum\n",
    "\n",
    "\n",
    "\n",
    "#plot the figure\n",
    "\n",
    " \n",
    "plt.contourf(x,y,Z, 50, alpha=0.5, cmap=plt.get_cmap('jet'))    \n",
    "plt.plot([-188.4], [2.67], 'x', ms=12, markeredgewidth=3, color='orange')\n",
    "plt.plot(b_history, w_history, 'o-', ms=3, lw=1.5, color='black')\n",
    "plt.xlim(-200,-100)\n",
    "plt.ylim(-5,5)\n",
    "plt.xlabel(r'$b$', fontsize=16)\n",
    "plt.ylabel(r'$w$', fontsize=16)\n",
    "plt.show()"
   ]
  },
  {
   "cell_type": "code",
   "execution_count": null,
   "metadata": {},
   "outputs": [],
   "source": []
  }
 ],
 "metadata": {
  "kernelspec": {
   "display_name": "Python 3",
   "language": "python",
   "name": "python3"
  },
  "language_info": {
   "codemirror_mode": {
    "name": "ipython",
    "version": 3
   },
   "file_extension": ".py",
   "mimetype": "text/x-python",
   "name": "python",
   "nbconvert_exporter": "python",
   "pygments_lexer": "ipython3",
   "version": "3.6.8"
  }
 },
 "nbformat": 4,
 "nbformat_minor": 2
}
